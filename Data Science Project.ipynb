{
    "cells": [
        {
            "cell_type": "code",
            "execution_count": 1,
            "metadata": {
                "id": "1df8ed2f-bd0b-4c5f-9378-474d0d491ce5",
                "msg_id": "167e5623-5a70-44ea-b02b-7d9adb595ae0"
            },
            "outputs": [
                {
                    "data": {
                        "text/html": "<div>\n<style scoped>\n    .dataframe tbody tr th:only-of-type {\n        vertical-align: middle;\n    }\n\n    .dataframe tbody tr th {\n        vertical-align: top;\n    }\n\n    .dataframe thead th {\n        text-align: right;\n    }\n</style>\n<table border=\"1\" class=\"dataframe\">\n  <thead>\n    <tr style=\"text-align: right;\">\n      <th></th>\n      <th>Bacteria Name</th>\n      <th>PBID</th>\n      <th>Metabolite Name</th>\n      <th>Study ID</th>\n    </tr>\n  </thead>\n  <tbody>\n    <tr>\n      <th>0</th>\n      <td>Akkermansia muciniphila</td>\n      <td>PB0245</td>\n      <td>Acetate</td>\n      <td>32</td>\n    </tr>\n    <tr>\n      <th>1</th>\n      <td>Akkermansia muciniphila</td>\n      <td>PB0245</td>\n      <td>Bile acids</td>\n      <td>32</td>\n    </tr>\n    <tr>\n      <th>2</th>\n      <td>Akkermansia muciniphila</td>\n      <td>PB0245</td>\n      <td>Butyrate</td>\n      <td>32</td>\n    </tr>\n    <tr>\n      <th>3</th>\n      <td>Akkermansia muciniphila</td>\n      <td>PB0245</td>\n      <td>Calcitonin</td>\n      <td>32</td>\n    </tr>\n    <tr>\n      <th>4</th>\n      <td>Akkermansia muciniphila</td>\n      <td>PB0245</td>\n      <td>Calcium</td>\n      <td>32</td>\n    </tr>\n    <tr>\n      <th>5</th>\n      <td>Akkermansia muciniphila</td>\n      <td>PB0245</td>\n      <td>Carbohydrates</td>\n      <td>32</td>\n    </tr>\n    <tr>\n      <th>6</th>\n      <td>Akkermansia muciniphila</td>\n      <td>PB0245</td>\n      <td>Estrogen</td>\n      <td>32</td>\n    </tr>\n    <tr>\n      <th>7</th>\n      <td>Akkermansia muciniphila</td>\n      <td>PB0245</td>\n      <td>Estrogens</td>\n      <td>32</td>\n    </tr>\n    <tr>\n      <th>8</th>\n      <td>Akkermansia muciniphila</td>\n      <td>PB0245</td>\n      <td>Fat</td>\n      <td>32</td>\n    </tr>\n    <tr>\n      <th>9</th>\n      <td>Akkermansia muciniphila</td>\n      <td>PB0245</td>\n      <td>GIP</td>\n      <td>32</td>\n    </tr>\n  </tbody>\n</table>\n</div>",
                        "text/plain": "             Bacteria Name    PBID Metabolite Name  Study ID\n0  Akkermansia muciniphila  PB0245         Acetate        32\n1  Akkermansia muciniphila  PB0245      Bile acids        32\n2  Akkermansia muciniphila  PB0245        Butyrate        32\n3  Akkermansia muciniphila  PB0245      Calcitonin        32\n4  Akkermansia muciniphila  PB0245         Calcium        32\n5  Akkermansia muciniphila  PB0245   Carbohydrates        32\n6  Akkermansia muciniphila  PB0245        Estrogen        32\n7  Akkermansia muciniphila  PB0245       Estrogens        32\n8  Akkermansia muciniphila  PB0245             Fat        32\n9  Akkermansia muciniphila  PB0245             GIP        32"
                    },
                    "execution_count": 1,
                    "metadata": {},
                    "output_type": "execute_result"
                }
            ],
            "source": "# The code was removed by Watson Studio for sharing."
        },
        {
            "cell_type": "code",
            "execution_count": null,
            "metadata": {
                "id": "4b88515c-af81-4de9-b356-796fa47b4d36"
            },
            "outputs": [],
            "source": ""
        }
    ],
    "metadata": {
        "kernelspec": {
            "display_name": "Python 3.11 with Spark",
            "language": "python3",
            "name": "python311"
        },
        "language_info": {
            "codemirror_mode": {
                "name": "ipython",
                "version": 3
            },
            "file_extension": ".py",
            "mimetype": "text/x-python",
            "name": "python",
            "nbconvert_exporter": "python",
            "pygments_lexer": "ipython3",
            "version": "3.11.9"
        }
    },
    "nbformat": 4,
    "nbformat_minor": 4
}